{
 "cells": [
  {
   "cell_type": "code",
   "execution_count": 1,
   "id": "2a3bd0f0",
   "metadata": {},
   "outputs": [],
   "source": [
    "from docplex.mp.model import Model"
   ]
  },
  {
   "cell_type": "code",
   "execution_count": 2,
   "id": "4b97b341",
   "metadata": {},
   "outputs": [],
   "source": [
    "m = Model(name='Cost Minimization')"
   ]
  },
  {
   "cell_type": "markdown",
   "id": "1e6f9882",
   "metadata": {},
   "source": [
    "# Variables"
   ]
  },
  {
   "cell_type": "code",
   "execution_count": 3,
   "id": "382ea3ea",
   "metadata": {},
   "outputs": [],
   "source": [
    "x = []\n",
    "for i in range(1, 13):\n",
    "    x.append(m.continuous_var(name=f'X {i}'))"
   ]
  },
  {
   "cell_type": "code",
   "execution_count": 4,
   "id": "01b0d309",
   "metadata": {},
   "outputs": [],
   "source": [
    "# standards\n",
    "manufacturing_time_per_unit = 1/3\n",
    "cost_of_hour = 12\n",
    "storage_cost_per_unit = 3\n",
    "\n",
    "# these are monthly\n",
    "cost_of_raw_materials_per_unit = [11, 10, 13, 9, 8, 7,\n",
    "                                  10, 12, 12, 10, 9]\n",
    "demand = [150, 200, 100, 300, 200,\n",
    "          400, 300, 250, 150, 200, 300, 350]\n",
    "avalaible_hours = [250, 250, 200, 150, 200, 200,\n",
    "                   150, 200, 250, 150, 150, 200]\n",
    "stored = 100"
   ]
  },
  {
   "cell_type": "markdown",
   "id": "3d08a4e3",
   "metadata": {},
   "source": [
    "# Constraints"
   ]
  },
  {
   "cell_type": "code",
   "execution_count": 5,
   "id": "40298020",
   "metadata": {},
   "outputs": [],
   "source": [
    "cost_sum = 0\n",
    "for i in range(0, 12):\n",
    "    m.add_constraint(manufacturing_time_per_unit*x[i]\n",
    "                     <= avalaible_hours[i])\n",
    "    m.add_constraint(x[i] + stored >= demand[i])\n",
    "    stored = x[i] + stored - demand[i]\n",
    "    cost_sum = manufacturing_time_per_unit*x[i]+stored*storage_cost_per_unit"
   ]
  },
  {
   "cell_type": "markdown",
   "id": "96b5ae76",
   "metadata": {},
   "source": [
    "# Goal"
   ]
  },
  {
   "cell_type": "code",
   "execution_count": 6,
   "id": "24ac2ef2",
   "metadata": {},
   "outputs": [],
   "source": [
    "m.minimize(cost_sum)"
   ]
  }
 ],
 "metadata": {
  "kernelspec": {
   "display_name": "Python 3 (ipykernel)",
   "language": "python",
   "name": "python3"
  },
  "language_info": {
   "codemirror_mode": {
    "name": "ipython",
    "version": 3
   },
   "file_extension": ".py",
   "mimetype": "text/x-python",
   "name": "python",
   "nbconvert_exporter": "python",
   "pygments_lexer": "ipython3",
   "version": "3.10.5"
  }
 },
 "nbformat": 4,
 "nbformat_minor": 5
}
