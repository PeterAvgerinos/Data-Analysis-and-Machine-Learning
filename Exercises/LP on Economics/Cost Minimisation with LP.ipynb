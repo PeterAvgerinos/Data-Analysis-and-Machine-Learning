{
 "cells": [
  {
   "cell_type": "code",
   "execution_count": 1,
   "id": "1dfac62d",
   "metadata": {},
   "outputs": [],
   "source": [
    "from pulp import LpMinimize, LpProblem, LpStatus, lpSum, LpVariable\n",
    "import pulp"
   ]
  },
  {
   "cell_type": "code",
   "execution_count": 2,
   "id": "95c434dc",
   "metadata": {},
   "outputs": [],
   "source": [
    "model = LpProblem(name=\"CostMinimization\", sense=LpMinimize)\n",
    "model_opt = LpProblem(name=\"CostMinimizationOpt\", sense=LpMinimize)"
   ]
  },
  {
   "cell_type": "markdown",
   "id": "934c7f90",
   "metadata": {},
   "source": [
    "# Variables"
   ]
  },
  {
   "cell_type": "code",
   "execution_count": 3,
   "id": "4003f146",
   "metadata": {},
   "outputs": [],
   "source": [
    "x = [LpVariable(name=f\"x{i}\", lowBound=0) for i in range(0, 12)]"
   ]
  },
  {
   "cell_type": "code",
   "execution_count": 4,
   "id": "913700e0",
   "metadata": {},
   "outputs": [],
   "source": [
    "y = [LpVariable(name=f\"y{i}\", lowBound=0, upBound=1, cat='Binary') for i in range(12)]"
   ]
  },
  {
   "cell_type": "code",
   "execution_count": 5,
   "id": "d476f9b2",
   "metadata": {},
   "outputs": [],
   "source": [
    "# standards\n",
    "manufacturing_time_per_unit = 0.333\n",
    "cost_of_hour = 12\n",
    "storage_cost_per_unit = 3\n",
    "\n",
    "# these are monthly\n",
    "cost_of_raw_materials_per_unit = [11, 10, 13, 9, 8, 7,\n",
    "                                  10, 12, 12, 10, 8, 9]\n",
    "demand = [150, 200, 100, 300, 200,\n",
    "          400, 300, 250, 150, 200, 300, 350]\n",
    "avalaible_hours = [250, 250, 200, 150, 200, 200,\n",
    "                   150, 200, 250, 150, 150, 200]"
   ]
  },
  {
   "cell_type": "markdown",
   "id": "4d4cbb36",
   "metadata": {},
   "source": [
    "# Constraints"
   ]
  },
  {
   "cell_type": "code",
   "execution_count": 6,
   "id": "1275ac0d",
   "metadata": {},
   "outputs": [],
   "source": [
    "cost_sum = 0\n",
    "cost_sum_opt = 0\n",
    "stored = [100]\n",
    "\n",
    "for i in range(1, 13):\n",
    "    hours_constraint = manufacturing_time_per_unit*x[i-1] <= avalaible_hours[i-1]\n",
    "    model += hours_constraint\n",
    "    model_opt += hours_constraint\n",
    "    demand_constraint = x[i-1] + stored[i-1] >= demand[i-1]\n",
    "    model += demand_constraint\n",
    "    model_opt += demand_constraint\n",
    "    stored.append(x[i-1] + stored[i-1] - demand[i-1])"
   ]
  },
  {
   "cell_type": "markdown",
   "id": "8c6388f1",
   "metadata": {},
   "source": [
    "# First Model without Binary Variable"
   ]
  },
  {
   "cell_type": "code",
   "execution_count": 7,
   "id": "52bc0cc6",
   "metadata": {},
   "outputs": [],
   "source": [
    "cost1 = 0\n",
    "for i in range(0, 12):\n",
    "    cost1 += cost_of_hour*manufacturing_time_per_unit*x[i]\n",
    "            +stored[i]*storage_cost_per_unit\n",
    "            +cost_of_raw_materials_per_unit[i]*x[i]"
   ]
  },
  {
   "cell_type": "code",
   "execution_count": 8,
   "id": "890fadbf",
   "metadata": {},
   "outputs": [],
   "source": [
    "model += cost1"
   ]
  },
  {
   "cell_type": "code",
   "execution_count": 9,
   "id": "d61afbd7",
   "metadata": {},
   "outputs": [
    {
     "name": "stdout",
     "output_type": "stream",
     "text": [
      "Welcome to the CBC MILP Solver \n",
      "Version: 2.10.3 \n",
      "Build Date: Dec 15 2019 \n",
      "\n",
      "command line - /Library/Frameworks/Python.framework/Versions/3.10/lib/python3.10/site-packages/pulp/solverdir/cbc/osx/64/cbc /var/folders/m8/41547t_d4vbb207z7w8gbgyr0000gn/T/7d4708689afa4ac8a06bad90bcb70c4c-pulp.mps timeMode elapsed branch printingOptions all solution /var/folders/m8/41547t_d4vbb207z7w8gbgyr0000gn/T/7d4708689afa4ac8a06bad90bcb70c4c-pulp.sol (default strategy 1)\n",
      "At line 2 NAME          MODEL\n",
      "At line 3 ROWS\n",
      "At line 29 COLUMNS\n",
      "At line 132 RHS\n",
      "At line 157 BOUNDS\n",
      "At line 158 ENDATA\n",
      "Problem MODEL has 24 rows, 12 columns and 90 elements\n",
      "Coin0008I MODEL read with 0 errors\n",
      "Option for timeMode changed from cpu to elapsed\n",
      "Presolve 11 (-13) rows, 12 (0) columns and 77 (-13) elements\n",
      "0  Obj 2399.8 Primal inf 15500 (11)\n",
      "10  Obj 77388.8\n",
      "Optimal - objective value 77388.8\n",
      "After Postsolve, objective 77388.8, infeasibilities - dual 0 (0), primal 0 (0)\n",
      "Optimal objective 77388.8 - 10 iterations time 0.002, Presolve 0.00\n",
      "Option for printingOptions changed from normal to all\n",
      "Total time (CPU seconds):       0.00   (Wallclock seconds):       0.00\n",
      "\n"
     ]
    },
    {
     "data": {
      "text/plain": [
       "1"
      ]
     },
     "execution_count": 9,
     "metadata": {},
     "output_type": "execute_result"
    }
   ],
   "source": [
    "model.solve()"
   ]
  },
  {
   "cell_type": "code",
   "execution_count": 10,
   "id": "3b8596a4",
   "metadata": {},
   "outputs": [
    {
     "data": {
      "text/plain": [
       "37788.80000000001"
      ]
     },
     "execution_count": 10,
     "metadata": {},
     "output_type": "execute_result"
    }
   ],
   "source": [
    "model.objective.value()"
   ]
  },
  {
   "cell_type": "code",
   "execution_count": 11,
   "id": "a01567f8",
   "metadata": {},
   "outputs": [
    {
     "name": "stdout",
     "output_type": "stream",
     "text": [
      "50.0\n",
      "300.0\n",
      "0.0\n",
      "300.0\n",
      "200.0\n",
      "400.0\n",
      "300.0\n",
      "250.0\n",
      "150.0\n",
      "200.0\n",
      "300.0\n",
      "350.0\n"
     ]
    }
   ],
   "source": [
    "for i in range(0, 12):\n",
    "    print(x[i].value())"
   ]
  },
  {
   "cell_type": "code",
   "execution_count": 12,
   "id": "0b379dcb",
   "metadata": {
    "scrolled": false
   },
   "outputs": [
    {
     "data": {
      "text/plain": [
       "CostMinimization:\n",
       "MINIMIZE\n",
       "47.996*x0 + 43.996*x1 + 14.996*x10 + 12.996*x11 + 43.996*x2 + 36.996*x3 + 32.996*x4 + 28.996000000000002*x5 + 28.996000000000002*x6 + 27.996000000000002*x7 + 24.996000000000002*x8 + 19.996000000000002*x9 + -39600.0\n",
       "SUBJECT TO\n",
       "_C1: 0.333 x0 <= 250\n",
       "\n",
       "_C2: x0 >= 50\n",
       "\n",
       "_C3: 0.333 x1 <= 250\n",
       "\n",
       "_C4: x0 + x1 >= 250\n",
       "\n",
       "_C5: 0.333 x2 <= 200\n",
       "\n",
       "_C6: x0 + x1 + x2 >= 350\n",
       "\n",
       "_C7: 0.333 x3 <= 150\n",
       "\n",
       "_C8: x0 + x1 + x2 + x3 >= 650\n",
       "\n",
       "_C9: 0.333 x4 <= 200\n",
       "\n",
       "_C10: x0 + x1 + x2 + x3 + x4 >= 850\n",
       "\n",
       "_C11: 0.333 x5 <= 200\n",
       "\n",
       "_C12: x0 + x1 + x2 + x3 + x4 + x5 >= 1250\n",
       "\n",
       "_C13: 0.333 x6 <= 150\n",
       "\n",
       "_C14: x0 + x1 + x2 + x3 + x4 + x5 + x6 >= 1550\n",
       "\n",
       "_C15: 0.333 x7 <= 200\n",
       "\n",
       "_C16: x0 + x1 + x2 + x3 + x4 + x5 + x6 + x7 >= 1800\n",
       "\n",
       "_C17: 0.333 x8 <= 250\n",
       "\n",
       "_C18: x0 + x1 + x2 + x3 + x4 + x5 + x6 + x7 + x8 >= 1950\n",
       "\n",
       "_C19: 0.333 x9 <= 150\n",
       "\n",
       "_C20: x0 + x1 + x2 + x3 + x4 + x5 + x6 + x7 + x8 + x9 >= 2150\n",
       "\n",
       "_C21: 0.333 x10 <= 150\n",
       "\n",
       "_C22: x0 + x1 + x10 + x2 + x3 + x4 + x5 + x6 + x7 + x8 + x9 >= 2450\n",
       "\n",
       "_C23: 0.333 x11 <= 200\n",
       "\n",
       "_C24: x0 + x1 + x10 + x11 + x2 + x3 + x4 + x5 + x6 + x7 + x8 + x9 >= 2800\n",
       "\n",
       "VARIABLES\n",
       "x0 Continuous\n",
       "x1 Continuous\n",
       "x10 Continuous\n",
       "x11 Continuous\n",
       "x2 Continuous\n",
       "x3 Continuous\n",
       "x4 Continuous\n",
       "x5 Continuous\n",
       "x6 Continuous\n",
       "x7 Continuous\n",
       "x8 Continuous\n",
       "x9 Continuous"
      ]
     },
     "execution_count": 12,
     "metadata": {},
     "output_type": "execute_result"
    }
   ],
   "source": [
    "model"
   ]
  },
  {
   "cell_type": "markdown",
   "id": "03dd7811",
   "metadata": {},
   "source": [
    "# Second Model with Binary Variable"
   ]
  },
  {
   "cell_type": "code",
   "execution_count": 13,
   "id": "46d93e1b",
   "metadata": {},
   "outputs": [],
   "source": [
    "for i in range(0, 12):\n",
    "    model_opt += x[i] <= 1000*y[i]\n",
    "    model_opt += x[i] >= y[i]"
   ]
  },
  {
   "cell_type": "code",
   "execution_count": 14,
   "id": "3b62985c",
   "metadata": {},
   "outputs": [],
   "source": [
    "cost2 = 0\n",
    "for i in range(0, 12):\n",
    "    cost2 += 1000*y[i]\n",
    "            +cost_of_hour*manufacturing_time_per_unit*x[i]\n",
    "            +stored[i]*storage_cost_per_unit + cost_of_raw_materials_per_unit[i]*x[i]"
   ]
  },
  {
   "cell_type": "code",
   "execution_count": 15,
   "id": "a8306092",
   "metadata": {},
   "outputs": [],
   "source": [
    "model_opt += cost2"
   ]
  },
  {
   "cell_type": "code",
   "execution_count": 16,
   "id": "5b7139d7",
   "metadata": {
    "scrolled": false
   },
   "outputs": [
    {
     "name": "stdout",
     "output_type": "stream",
     "text": [
      "Welcome to the CBC MILP Solver \n",
      "Version: 2.10.3 \n",
      "Build Date: Dec 15 2019 \n",
      "\n",
      "command line - /Library/Frameworks/Python.framework/Versions/3.10/lib/python3.10/site-packages/pulp/solverdir/cbc/osx/64/cbc /var/folders/m8/41547t_d4vbb207z7w8gbgyr0000gn/T/860555e3be5841b49463be88b5905905-pulp.mps timeMode elapsed branch printingOptions all solution /var/folders/m8/41547t_d4vbb207z7w8gbgyr0000gn/T/860555e3be5841b49463be88b5905905-pulp.sol (default strategy 1)\n",
      "At line 2 NAME          MODEL\n",
      "At line 3 ROWS\n",
      "At line 53 COLUMNS\n",
      "At line 240 RHS\n",
      "At line 289 BOUNDS\n",
      "At line 302 ENDATA\n",
      "Problem MODEL has 48 rows, 24 columns and 138 elements\n",
      "Coin0008I MODEL read with 0 errors\n",
      "Option for timeMode changed from cpu to elapsed\n",
      "Continuous objective value is 80188.8 - 0.00 seconds\n",
      "Cgl0004I processed model has 33 rows, 23 columns (11 integer (11 of which binary)) and 121 elements\n",
      "Cbc0038I Initial state - 9 integers unsatisfied sum - 3.09857\n",
      "Cbc0038I Pass   1: suminf.    0.46380 (1) obj. 93327.7 iterations 11\n",
      "Cbc0038I Solution found of 93863.9\n",
      "Cbc0038I Relaxing continuous gives 93822.4\n",
      "Cbc0038I Before mini branch and bound, 2 integers at bound fixed and 2 continuous\n",
      "Cbc0038I Full problem 33 rows 23 columns, reduced to 27 rows 19 columns\n",
      "Cbc0038I Mini branch and bound improved solution from 93822.4 to 87236.4 (0.01 seconds)\n",
      "Cbc0038I Round again with cutoff of 86844.4\n",
      "Cbc0038I Pass   2: suminf.    1.11474 (3) obj. 86844.4 iterations 3\n",
      "Cbc0038I Pass   3: suminf.    0.67235 (2) obj. 86844.4 iterations 10\n",
      "Cbc0038I Pass   4: suminf.    0.82995 (3) obj. 86844.4 iterations 3\n",
      "Cbc0038I Pass   5: suminf.    0.82995 (3) obj. 86844.4 iterations 0\n",
      "Cbc0038I Pass   6: suminf.    0.38028 (2) obj. 86844.4 iterations 3\n",
      "Cbc0038I Pass   7: suminf.    0.34155 (2) obj. 86844.4 iterations 2\n",
      "Cbc0038I Pass   8: suminf.    0.28521 (2) obj. 86844.4 iterations 6\n",
      "Cbc0038I Pass   9: suminf.    0.83196 (3) obj. 86844.4 iterations 7\n",
      "Cbc0038I Pass  10: suminf.    0.83196 (3) obj. 86844.4 iterations 0\n",
      "Cbc0038I Pass  11: suminf.    1.12364 (3) obj. 86844.4 iterations 3\n",
      "Cbc0038I Pass  12: suminf.    1.12364 (3) obj. 86844.4 iterations 2\n",
      "Cbc0038I Pass  13: suminf.    1.09836 (3) obj. 86844.4 iterations 1\n",
      "Cbc0038I Pass  14: suminf.    1.12364 (4) obj. 86844.4 iterations 3\n",
      "Cbc0038I Pass  15: suminf.    1.09836 (3) obj. 86844.4 iterations 2\n",
      "Cbc0038I Pass  16: suminf.    0.68759 (3) obj. 86844.4 iterations 7\n",
      "Cbc0038I Pass  17: suminf.    0.83196 (3) obj. 86844.4 iterations 6\n",
      "Cbc0038I Pass  18: suminf.    0.83196 (3) obj. 86844.4 iterations 0\n",
      "Cbc0038I Pass  19: suminf.    1.12364 (3) obj. 86844.4 iterations 3\n",
      "Cbc0038I Pass  20: suminf.    0.83196 (3) obj. 86844.4 iterations 1\n",
      "Cbc0038I Pass  21: suminf.    0.94396 (3) obj. 86844.4 iterations 2\n",
      "Cbc0038I Pass  22: suminf.    1.28797 (4) obj. 86844.4 iterations 6\n",
      "Cbc0038I Pass  23: suminf.    1.23156 (4) obj. 86844.4 iterations 2\n",
      "Cbc0038I Pass  24: suminf.    0.94396 (3) obj. 86844.4 iterations 3\n",
      "Cbc0038I Pass  25: suminf.    0.83196 (3) obj. 86844.4 iterations 1\n",
      "Cbc0038I Pass  26: suminf.    0.83196 (3) obj. 86844.4 iterations 0\n",
      "Cbc0038I Pass  27: suminf.    1.12364 (3) obj. 86844.4 iterations 3\n",
      "Cbc0038I Pass  28: suminf.    0.66368 (2) obj. 86844.4 iterations 7\n",
      "Cbc0038I Pass  29: suminf.    0.55449 (2) obj. 86844.4 iterations 2\n",
      "Cbc0038I Pass  30: suminf.    0.68236 (2) obj. 86844.4 iterations 2\n",
      "Cbc0038I Pass  31: suminf.    0.68236 (2) obj. 86844.4 iterations 0\n",
      "Cbc0038I No solution found this major pass\n",
      "Cbc0038I Before mini branch and bound, 0 integers at bound fixed and 0 continuous\n",
      "Cbc0038I Full problem 33 rows 23 columns, reduced to 33 rows 23 columns\n",
      "Cbc0038I Mini branch and bound did not improve solution (0.01 seconds)\n",
      "Cbc0038I After 0.01 seconds - Feasibility pump exiting with objective of 87236.4 - took 0.01 seconds\n",
      "Cbc0012I Integer solution of 87236.398 found by feasibility pump after 0 iterations and 0 nodes (0.01 seconds)\n",
      "Cbc0031I 13 added rows had average density of 7.3846154\n",
      "Cbc0013I At root node, 31 cuts changed objective from 83316.867 to 87236.398 in 2 passes\n",
      "Cbc0014I Cut generator 0 (Probing) - 3 row cuts average 2.7 elements, 0 column cuts (0 active)  in 0.000 seconds - new frequency is -100\n",
      "Cbc0014I Cut generator 1 (Gomory) - 15 row cuts average 7.5 elements, 0 column cuts (0 active)  in 0.000 seconds - new frequency is 1\n",
      "Cbc0014I Cut generator 2 (Knapsack) - 0 row cuts average 0.0 elements, 0 column cuts (0 active)  in 0.000 seconds - new frequency is -100\n",
      "Cbc0014I Cut generator 3 (Clique) - 0 row cuts average 0.0 elements, 0 column cuts (0 active)  in 0.000 seconds - new frequency is -100\n",
      "Cbc0014I Cut generator 4 (MixedIntegerRounding2) - 16 row cuts average 5.5 elements, 0 column cuts (0 active)  in 0.000 seconds - new frequency is 1\n",
      "Cbc0014I Cut generator 5 (FlowCover) - 0 row cuts average 0.0 elements, 0 column cuts (0 active)  in 0.000 seconds - new frequency is -100\n",
      "Cbc0014I Cut generator 6 (TwoMirCuts) - 15 row cuts average 7.5 elements, 0 column cuts (0 active)  in 0.000 seconds - new frequency is 1\n",
      "Cbc0001I Search completed - best objective 87236.39759759759, took 20 iterations and 0 nodes (0.01 seconds)\n",
      "Cbc0035I Maximum depth 0, 0 variables fixed on reduced cost\n",
      "Cuts at root node changed objective from 83316.9 to 87236.4\n",
      "Probing was tried 2 times and created 3 cuts of which 0 were active after adding rounds of cuts (0.000 seconds)\n",
      "Gomory was tried 2 times and created 15 cuts of which 0 were active after adding rounds of cuts (0.000 seconds)\n",
      "Knapsack was tried 2 times and created 0 cuts of which 0 were active after adding rounds of cuts (0.000 seconds)\n",
      "Clique was tried 2 times and created 0 cuts of which 0 were active after adding rounds of cuts (0.000 seconds)\n",
      "MixedIntegerRounding2 was tried 2 times and created 16 cuts of which 0 were active after adding rounds of cuts (0.000 seconds)\n",
      "FlowCover was tried 2 times and created 0 cuts of which 0 were active after adding rounds of cuts (0.000 seconds)\n",
      "TwoMirCuts was tried 2 times and created 15 cuts of which 0 were active after adding rounds of cuts (0.000 seconds)\n",
      "ZeroHalf was tried 1 times and created 0 cuts of which 0 were active after adding rounds of cuts (0.000 seconds)\n",
      "\n",
      "Result - Optimal solution found\n",
      "\n",
      "Objective value:                87236.39759760\n",
      "Enumerated nodes:               0\n",
      "Total iterations:               20\n",
      "Time (CPU seconds):             0.01\n",
      "Time (Wallclock seconds):       0.01\n",
      "\n",
      "Option for printingOptions changed from normal to all\n",
      "Total time (CPU seconds):       0.01   (Wallclock seconds):       0.01\n",
      "\n"
     ]
    },
    {
     "data": {
      "text/plain": [
       "1"
      ]
     },
     "execution_count": 16,
     "metadata": {},
     "output_type": "execute_result"
    }
   ],
   "source": [
    "model_opt.solve()"
   ]
  },
  {
   "cell_type": "code",
   "execution_count": 17,
   "id": "fc316923",
   "metadata": {},
   "outputs": [
    {
     "data": {
      "text/plain": [
       "47636.39760000001"
      ]
     },
     "execution_count": 17,
     "metadata": {},
     "output_type": "execute_result"
    }
   ],
   "source": [
    "model_opt.objective.value()"
   ]
  },
  {
   "cell_type": "code",
   "execution_count": 18,
   "id": "539b026b",
   "metadata": {
    "scrolled": false
   },
   "outputs": [
    {
     "data": {
      "text/plain": [
       "CostMinimizationOpt:\n",
       "MINIMIZE\n",
       "47.996*x0 + 43.996*x1 + 14.996*x10 + 12.996*x11 + 43.996*x2 + 36.996*x3 + 32.996*x4 + 28.996000000000002*x5 + 28.996000000000002*x6 + 27.996000000000002*x7 + 24.996000000000002*x8 + 19.996000000000002*x9 + 1000*y0 + 1000*y1 + 1000*y10 + 1000*y11 + 1000*y2 + 1000*y3 + 1000*y4 + 1000*y5 + 1000*y6 + 1000*y7 + 1000*y8 + 1000*y9 + -39600.0\n",
       "SUBJECT TO\n",
       "_C1: 0.333 x0 <= 250\n",
       "\n",
       "_C2: x0 >= 50\n",
       "\n",
       "_C3: 0.333 x1 <= 250\n",
       "\n",
       "_C4: x0 + x1 >= 250\n",
       "\n",
       "_C5: 0.333 x2 <= 200\n",
       "\n",
       "_C6: x0 + x1 + x2 >= 350\n",
       "\n",
       "_C7: 0.333 x3 <= 150\n",
       "\n",
       "_C8: x0 + x1 + x2 + x3 >= 650\n",
       "\n",
       "_C9: 0.333 x4 <= 200\n",
       "\n",
       "_C10: x0 + x1 + x2 + x3 + x4 >= 850\n",
       "\n",
       "_C11: 0.333 x5 <= 200\n",
       "\n",
       "_C12: x0 + x1 + x2 + x3 + x4 + x5 >= 1250\n",
       "\n",
       "_C13: 0.333 x6 <= 150\n",
       "\n",
       "_C14: x0 + x1 + x2 + x3 + x4 + x5 + x6 >= 1550\n",
       "\n",
       "_C15: 0.333 x7 <= 200\n",
       "\n",
       "_C16: x0 + x1 + x2 + x3 + x4 + x5 + x6 + x7 >= 1800\n",
       "\n",
       "_C17: 0.333 x8 <= 250\n",
       "\n",
       "_C18: x0 + x1 + x2 + x3 + x4 + x5 + x6 + x7 + x8 >= 1950\n",
       "\n",
       "_C19: 0.333 x9 <= 150\n",
       "\n",
       "_C20: x0 + x1 + x2 + x3 + x4 + x5 + x6 + x7 + x8 + x9 >= 2150\n",
       "\n",
       "_C21: 0.333 x10 <= 150\n",
       "\n",
       "_C22: x0 + x1 + x10 + x2 + x3 + x4 + x5 + x6 + x7 + x8 + x9 >= 2450\n",
       "\n",
       "_C23: 0.333 x11 <= 200\n",
       "\n",
       "_C24: x0 + x1 + x10 + x11 + x2 + x3 + x4 + x5 + x6 + x7 + x8 + x9 >= 2800\n",
       "\n",
       "_C25: x0 - 1000 y0 <= 0\n",
       "\n",
       "_C26: x0 - y0 >= 0\n",
       "\n",
       "_C27: x1 - 1000 y1 <= 0\n",
       "\n",
       "_C28: x1 - y1 >= 0\n",
       "\n",
       "_C29: x2 - 1000 y2 <= 0\n",
       "\n",
       "_C30: x2 - y2 >= 0\n",
       "\n",
       "_C31: x3 - 1000 y3 <= 0\n",
       "\n",
       "_C32: x3 - y3 >= 0\n",
       "\n",
       "_C33: x4 - 1000 y4 <= 0\n",
       "\n",
       "_C34: x4 - y4 >= 0\n",
       "\n",
       "_C35: x5 - 1000 y5 <= 0\n",
       "\n",
       "_C36: x5 - y5 >= 0\n",
       "\n",
       "_C37: x6 - 1000 y6 <= 0\n",
       "\n",
       "_C38: x6 - y6 >= 0\n",
       "\n",
       "_C39: x7 - 1000 y7 <= 0\n",
       "\n",
       "_C40: x7 - y7 >= 0\n",
       "\n",
       "_C41: x8 - 1000 y8 <= 0\n",
       "\n",
       "_C42: x8 - y8 >= 0\n",
       "\n",
       "_C43: x9 - 1000 y9 <= 0\n",
       "\n",
       "_C44: x9 - y9 >= 0\n",
       "\n",
       "_C45: x10 - 1000 y10 <= 0\n",
       "\n",
       "_C46: x10 - y10 >= 0\n",
       "\n",
       "_C47: x11 - 1000 y11 <= 0\n",
       "\n",
       "_C48: x11 - y11 >= 0\n",
       "\n",
       "VARIABLES\n",
       "x0 Continuous\n",
       "x1 Continuous\n",
       "x10 Continuous\n",
       "x11 Continuous\n",
       "x2 Continuous\n",
       "x3 Continuous\n",
       "x4 Continuous\n",
       "x5 Continuous\n",
       "x6 Continuous\n",
       "x7 Continuous\n",
       "x8 Continuous\n",
       "x9 Continuous\n",
       "0 <= y0 <= 1 Integer\n",
       "0 <= y1 <= 1 Integer\n",
       "0 <= y10 <= 1 Integer\n",
       "0 <= y11 <= 1 Integer\n",
       "0 <= y2 <= 1 Integer\n",
       "0 <= y3 <= 1 Integer\n",
       "0 <= y4 <= 1 Integer\n",
       "0 <= y5 <= 1 Integer\n",
       "0 <= y6 <= 1 Integer\n",
       "0 <= y7 <= 1 Integer\n",
       "0 <= y8 <= 1 Integer\n",
       "0 <= y9 <= 1 Integer"
      ]
     },
     "execution_count": 18,
     "metadata": {},
     "output_type": "execute_result"
    }
   ],
   "source": [
    "model_opt"
   ]
  },
  {
   "cell_type": "code",
   "execution_count": 19,
   "id": "85ebbf30",
   "metadata": {},
   "outputs": [
    {
     "name": "stdout",
     "output_type": "stream",
     "text": [
      "50.0\n",
      "300.0\n",
      "0.0\n",
      "300.0\n",
      "299.3994\n",
      "600.6006\n",
      "0.0\n",
      "400.0\n",
      "0.0\n",
      "200.0\n",
      "300.0\n",
      "350.0\n"
     ]
    }
   ],
   "source": [
    "for i in range(0, 12):\n",
    "    print(x[i].value())"
   ]
  },
  {
   "cell_type": "code",
   "execution_count": 20,
   "id": "7952db59",
   "metadata": {},
   "outputs": [
    {
     "name": "stdout",
     "output_type": "stream",
     "text": [
      "1.0\n",
      "1.0\n",
      "0.0\n",
      "1.0\n",
      "1.0\n",
      "1.0\n",
      "0.0\n",
      "1.0\n",
      "0.0\n",
      "1.0\n",
      "1.0\n",
      "1.0\n"
     ]
    }
   ],
   "source": [
    "for i in range(0, 12):\n",
    "    print(y[i].value())"
   ]
  }
 ],
 "metadata": {
  "kernelspec": {
   "display_name": "Python 3 (ipykernel)",
   "language": "python",
   "name": "python3"
  },
  "language_info": {
   "codemirror_mode": {
    "name": "ipython",
    "version": 3
   },
   "file_extension": ".py",
   "mimetype": "text/x-python",
   "name": "python",
   "nbconvert_exporter": "python",
   "pygments_lexer": "ipython3",
   "version": "3.10.5"
  }
 },
 "nbformat": 4,
 "nbformat_minor": 5
}
