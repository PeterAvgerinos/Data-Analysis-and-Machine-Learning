{
 "cells": [
  {
   "cell_type": "code",
   "execution_count": 18,
   "id": "2a3bd0f0",
   "metadata": {},
   "outputs": [],
   "source": [
    "from docplex.mp.model import Model"
   ]
  },
  {
   "cell_type": "code",
   "execution_count": 19,
   "id": "4b97b341",
   "metadata": {},
   "outputs": [],
   "source": [
    "m = Model(name='Cost Minimization')"
   ]
  },
  {
   "cell_type": "markdown",
   "id": "1e6f9882",
   "metadata": {},
   "source": [
    "# Variables"
   ]
  },
  {
   "cell_type": "code",
   "execution_count": 20,
   "id": "382ea3ea",
   "metadata": {},
   "outputs": [],
   "source": [
    "x = []\n",
    "for i in range(1, 13):\n",
    "    x.append(m.continuous_var(name=f'X {i}'))"
   ]
  },
  {
   "cell_type": "code",
   "execution_count": 21,
   "id": "01b0d309",
   "metadata": {},
   "outputs": [],
   "source": [
    "# standards\n",
    "manufacturing_time_per_unit = 1/3\n",
    "cost_of_hour = 12\n",
    "storage_cost_per_unit = 3\n",
    "\n",
    "# these are monthly\n",
    "cost_of_raw_materials_per_unit = [11, 10, 13, 9, 8, 7,\n",
    "                                  10, 12, 12, 10, 9]\n",
    "demand = [150, 200, 100, 300, 200,\n",
    "          400, 300, 250, 150, 200, 300, 350]\n",
    "avalaible_hours = [250, 250, 200, 150, 200, 200,\n",
    "                   150, 200, 250, 150, 150, 200]\n",
    "stored = 100"
   ]
  },
  {
   "cell_type": "markdown",
   "id": "3d08a4e3",
   "metadata": {},
   "source": [
    "# Constraints"
   ]
  },
  {
   "cell_type": "code",
   "execution_count": 22,
   "id": "40298020",
   "metadata": {},
   "outputs": [],
   "source": [
    "cost_sum = 0\n",
    "for i in range(0, 12):\n",
    "    m.add_constraint(manufacturing_time_per_unit*x[i]\n",
    "                     <= avalaible_hours[i])\n",
    "    m.add_constraint(x[i] + stored >= demand[i])\n",
    "    stored = x[i] + stored - demand[i]\n",
    "    cost_sum += manufacturing_time_per_unit*x[i]+stored*storage_cost_per_unit"
   ]
  },
  {
   "cell_type": "markdown",
   "id": "96b5ae76",
   "metadata": {},
   "source": [
    "# Goal"
   ]
  },
  {
   "cell_type": "code",
   "execution_count": 23,
   "id": "24ac2ef2",
   "metadata": {},
   "outputs": [],
   "source": [
    "m.minimize(cost_sum)"
   ]
  },
  {
   "cell_type": "markdown",
   "id": "028a5f1b",
   "metadata": {},
   "source": [
    "# Couldn't get Docplex to work, tried with Pulp instead"
   ]
  },
  {
   "cell_type": "markdown",
   "id": "4114a297",
   "metadata": {},
   "source": [
    "# ---------------------------------------------------------------------------------------"
   ]
  },
  {
   "cell_type": "code",
   "execution_count": 1,
   "id": "1dfac62d",
   "metadata": {},
   "outputs": [],
   "source": [
    "from pulp import LpMinimize, LpProblem, LpStatus, lpSum, LpVariable"
   ]
  },
  {
   "cell_type": "code",
   "execution_count": 2,
   "id": "95c434dc",
   "metadata": {},
   "outputs": [],
   "source": [
    "model = LpProblem(name=\"CostMinimization\", sense=LpMinimize)\n",
    "model_opt = LpProblem(name=\"CostMinimizationOpt\", sense=LpMinimize)"
   ]
  },
  {
   "cell_type": "markdown",
   "id": "934c7f90",
   "metadata": {},
   "source": [
    "# Variables"
   ]
  },
  {
   "cell_type": "code",
   "execution_count": 3,
   "id": "4003f146",
   "metadata": {},
   "outputs": [],
   "source": [
    "x = [LpVariable(name=f\"x{i}\", lowBound=0) for i in range(0, 12)]"
   ]
  },
  {
   "cell_type": "code",
   "execution_count": 4,
   "id": "d476f9b2",
   "metadata": {},
   "outputs": [],
   "source": [
    "# standards\n",
    "manufacturing_time_per_unit = 1/3\n",
    "cost_of_hour = 12\n",
    "storage_cost_per_unit = 3\n",
    "\n",
    "# these are monthly\n",
    "cost_of_raw_materials_per_unit = [11, 10, 13, 9, 8, 7,\n",
    "                                  10, 12, 12, 10, 9]\n",
    "demand = [150, 200, 100, 300, 200,\n",
    "          400, 300, 250, 150, 200, 300, 350]\n",
    "avalaible_hours = [250, 250, 200, 150, 200, 200,\n",
    "                   150, 200, 250, 150, 150, 200]"
   ]
  },
  {
   "cell_type": "markdown",
   "id": "4d4cbb36",
   "metadata": {},
   "source": [
    "# Constraints"
   ]
  },
  {
   "cell_type": "code",
   "execution_count": 5,
   "id": "1275ac0d",
   "metadata": {},
   "outputs": [
    {
     "ename": "SyntaxError",
     "evalue": "invalid syntax (2996304916.py, line 14)",
     "output_type": "error",
     "traceback": [
      "\u001b[0;36m  Cell \u001b[0;32mIn [5], line 14\u001b[0;36m\u001b[0m\n\u001b[0;31m    constraint_opt = if x[i-1] > 0: cost_sum+=1000\u001b[0m\n\u001b[0m                     ^\u001b[0m\n\u001b[0;31mSyntaxError\u001b[0m\u001b[0;31m:\u001b[0m invalid syntax\n"
     ]
    }
   ],
   "source": [
    "cost_sum = 0\n",
    "stored = [100]\n",
    "\n",
    "for i in range(1, 13):\n",
    "    cost_constraint = manufacturing_time_per_unit*x[i-1] <= avalaible_hours[i-1]\n",
    "    model += cost_constraint\n",
    "    model_opt += cost_constraint\n",
    "    demand_constraint = x[i-1] + stored >= demand[i-1]\n",
    "    model += demand_constraint\n",
    "    model_opt += demand_constraint\n",
    "    stored.append(x[i-1] + stored - demand[i-1])\n",
    "    cost_sum += manufacturing_time_per_unit*x[i-1]+stored[i-1]*storage_cost_per_unit\n",
    "    storage_constraint = x[i-1] != 0\n",
    "    constraint_opt = if x[i-1] > 0: cost_sum+=1000"
   ]
  },
  {
   "cell_type": "code",
   "execution_count": 33,
   "id": "890fadbf",
   "metadata": {},
   "outputs": [],
   "source": [
    "model += cost_sum"
   ]
  },
  {
   "cell_type": "code",
   "execution_count": 34,
   "id": "d61afbd7",
   "metadata": {},
   "outputs": [
    {
     "name": "stdout",
     "output_type": "stream",
     "text": [
      "Welcome to the CBC MILP Solver \n",
      "Version: 2.10.3 \n",
      "Build Date: Dec 15 2019 \n",
      "\n",
      "command line - /Library/Frameworks/Python.framework/Versions/3.10/lib/python3.10/site-packages/pulp/solverdir/cbc/osx/64/cbc /var/folders/m8/41547t_d4vbb207z7w8gbgyr0000gn/T/8860ad7471db404f92c6c952c879e191-pulp.mps timeMode elapsed branch printingOptions all solution /var/folders/m8/41547t_d4vbb207z7w8gbgyr0000gn/T/8860ad7471db404f92c6c952c879e191-pulp.sol (default strategy 1)\n",
      "At line 2 NAME          MODEL\n",
      "At line 3 ROWS\n",
      "At line 29 COLUMNS\n",
      "At line 132 RHS\n",
      "At line 157 BOUNDS\n",
      "At line 158 ENDATA\n",
      "Problem MODEL has 24 rows, 12 columns and 90 elements\n",
      "Coin0008I MODEL read with 0 errors\n",
      "Option for timeMode changed from cpu to elapsed\n",
      "Presolve 11 (-13) rows, 12 (0) columns and 77 (-13) elements\n",
      "0  Obj 153616.67 Primal inf 1012.7441 (11)\n",
      "10  Obj 447566.67\n",
      "Optimal - objective value 447566.67\n",
      "After Postsolve, objective 447566.67, infeasibilities - dual 0 (0), primal 0 (0)\n",
      "Optimal objective 447566.6667 - 10 iterations time 0.002, Presolve 0.00\n",
      "Option for printingOptions changed from normal to all\n",
      "Total time (CPU seconds):       0.00   (Wallclock seconds):       0.01\n",
      "\n"
     ]
    },
    {
     "data": {
      "text/plain": [
       "1"
      ]
     },
     "execution_count": 34,
     "metadata": {},
     "output_type": "execute_result"
    }
   ],
   "source": [
    "model.solve()"
   ]
  },
  {
   "cell_type": "code",
   "execution_count": 35,
   "id": "3b8596a4",
   "metadata": {},
   "outputs": [
    {
     "data": {
      "text/plain": [
       "866.6666666667086"
      ]
     },
     "execution_count": 35,
     "metadata": {},
     "output_type": "execute_result"
    }
   ],
   "source": [
    "model.objective.value()"
   ]
  },
  {
   "cell_type": "code",
   "execution_count": 36,
   "id": "a01567f8",
   "metadata": {},
   "outputs": [
    {
     "name": "stdout",
     "output_type": "stream",
     "text": [
      "50.0\n",
      "100.0\n",
      "0.0\n",
      "200.0\n",
      "100.0\n",
      "300.0\n",
      "200.0\n",
      "150.0\n",
      "50.0\n",
      "100.0\n",
      "200.0\n",
      "250.0\n"
     ]
    }
   ],
   "source": [
    "for i in range(0, 12):\n",
    "    print(x[i].value())"
   ]
  },
  {
   "cell_type": "code",
   "execution_count": 37,
   "id": "0b379dcb",
   "metadata": {},
   "outputs": [
    {
     "data": {
      "text/plain": [
       "CostMinimization:\n",
       "MINIMIZE\n",
       "3072.3333333333335*x0 + 1536.3333333333335*x1 + 3.3333333333333335*x10 + 0.3333333333333333*x11 + 768.3333333333334*x2 + 384.33333333333337*x3 + 192.33333333333334*x4 + 96.33333333333334*x5 + 48.333333333333336*x6 + 24.333333333333336*x7 + 12.333333333333334*x8 + 6.333333333333334*x9 + -446700.0\n",
       "SUBJECT TO\n",
       "_C1: 0.333333333333 x0 <= 250\n",
       "\n",
       "_C2: x0 >= 50\n",
       "\n",
       "_C3: 0.333333333333 x1 <= 250\n",
       "\n",
       "_C4: x0 + x1 >= 150\n",
       "\n",
       "_C5: 0.333333333333 x2 <= 200\n",
       "\n",
       "_C6: 2 x0 + x1 + x2 >= 200\n",
       "\n",
       "_C7: 0.333333333333 x3 <= 150\n",
       "\n",
       "_C8: 4 x0 + 2 x1 + x2 + x3 >= 600\n",
       "\n",
       "_C9: 0.333333333333 x4 <= 200\n",
       "\n",
       "_C10: 8 x0 + 4 x1 + 2 x2 + x3 + x4 >= 1100\n",
       "\n",
       "_C11: 0.333333333333 x5 <= 200\n",
       "\n",
       "_C12: 16 x0 + 8 x1 + 4 x2 + 2 x3 + x4 + x5 >= 2400\n",
       "\n",
       "_C13: 0.333333333333 x6 <= 150\n",
       "\n",
       "_C14: 32 x0 + 16 x1 + 8 x2 + 4 x3 + 2 x4 + x5 + x6 >= 4700\n",
       "\n",
       "_C15: 0.333333333333 x7 <= 200\n",
       "\n",
       "_C16: 64 x0 + 32 x1 + 16 x2 + 8 x3 + 4 x4 + 2 x5 + x6 + x7 >= 9350\n",
       "\n",
       "_C17: 0.333333333333 x8 <= 250\n",
       "\n",
       "_C18: 128 x0 + 64 x1 + 32 x2 + 16 x3 + 8 x4 + 4 x5 + 2 x6 + x7 + x8 >= 18600\n",
       "\n",
       "_C19: 0.333333333333 x9 <= 150\n",
       "\n",
       "_C20: 256 x0 + 128 x1 + 64 x2 + 32 x3 + 16 x4 + 8 x5 + 4 x6 + 2 x7 + x8 + x9\n",
       " >= 37250\n",
       "\n",
       "_C21: 0.333333333333 x10 <= 150\n",
       "\n",
       "_C22: 512 x0 + 256 x1 + x10 + 128 x2 + 64 x3 + 32 x4 + 16 x5 + 8 x6 + 4 x7\n",
       " + 2 x8 + x9 >= 74600\n",
       "\n",
       "_C23: 0.333333333333 x11 <= 200\n",
       "\n",
       "_C24: 1024 x0 + 512 x1 + x10 + x11 + 256 x2 + 128 x3 + 64 x4 + 32 x5 + 16 x6\n",
       " + 8 x7 + 4 x8 + 2 x9 >= 149250\n",
       "\n",
       "VARIABLES\n",
       "x0 Continuous\n",
       "x1 Continuous\n",
       "x10 Continuous\n",
       "x11 Continuous\n",
       "x2 Continuous\n",
       "x3 Continuous\n",
       "x4 Continuous\n",
       "x5 Continuous\n",
       "x6 Continuous\n",
       "x7 Continuous\n",
       "x8 Continuous\n",
       "x9 Continuous"
      ]
     },
     "execution_count": 37,
     "metadata": {},
     "output_type": "execute_result"
    }
   ],
   "source": [
    "model"
   ]
  }
 ],
 "metadata": {
  "kernelspec": {
   "display_name": "Python 3 (ipykernel)",
   "language": "python",
   "name": "python3"
  },
  "language_info": {
   "codemirror_mode": {
    "name": "ipython",
    "version": 3
   },
   "file_extension": ".py",
   "mimetype": "text/x-python",
   "name": "python",
   "nbconvert_exporter": "python",
   "pygments_lexer": "ipython3",
   "version": "3.10.5"
  }
 },
 "nbformat": 4,
 "nbformat_minor": 5
}
